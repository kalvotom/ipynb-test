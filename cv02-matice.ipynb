{
 "cells": [
  {
   "cell_type": "markdown",
   "metadata": {},
   "source": [
    "# Základní práce s maticemi v Sage\n",
    "*Tomáš Kalvoda, KAM FIT ČVUT, 2019*\n",
    "\n",
    "Tento notebook ukazuje jak v Sage pracovat s maticemi s prvky z různých těles (resp. nejen těles).\n",
    "\n",
    "## Základní pojmy a konvence\n",
    "\n",
    "Připomeňme si nejprve základní pojmy.\n",
    "Mějme $T$ těleso a přirozená čísla $m,n \\in \\mathbb{N}$.\n",
    "Potom $\\mathbb{A} \\in T^{m,n}$, tedy zobrazení, které dvojici indexů $(k,\\ell) \\in \\hat m \\times \\hat n$ přiřadí prvek z $T$ (ozn. $\\mathbb{A}_{k,\\ell}$), nazýváme **$m \\times n$ maticí s prvky z tělesa $T$**.\n",
    "\n",
    "Matice si můžeme přirozeně představovat jako tabulku čísel indexovanou pomocí dvou indexů $k$ a $\\ell$.\n",
    "Konvečně se prvek $\\mathbb{A}_{k,\\ell}$ klade do $k$tého řádku a $\\ell$tého sloupce.\n",
    "Prvek $\\mathbb{A}_{11}$ je v levém horním rohu, $\\mathbb{A}_{m,1}$ v levém dolním rohu, $\\mathbb{A}_{m,n}$ v pravém dolním rohu a $\\mathbb{A}_{1,n}$ v pravém horním rohu, konkrétně\n",
    "$$\n",
    "  \\mathbb{A} = \\begin{pmatrix}\n",
    "      \\mathbb{A}_{1,1} & \\mathbb{A}_{1,2} & \\cdots & \\mathbb{A}_{1,n} \\\\\n",
    "      \\mathbb{A}_{2,1} & \\mathbb{A}_{2,2} & \\cdots & \\mathbb{A}_{1,n} \\\\\n",
    "      \\vdots           &                  & \\ddots & \\vdots \\\\\n",
    "      \\mathbb{A}_{m,1} & \\mathbb{A}_{m,2} & \\cdots & \\mathbb{A}_{m,n}\n",
    "  \\end{pmatrix}\n",
    "$$\n",
    "S přimhouřenýma očima bychom o maticích z programátorského pohledu mohli mluvit jako o dvourozměrných polích.\n",
    "Občas se také samotné prvky matice značí malým latinským písmenkem, tj. mohli bychom psát $\\mathbb{A} = (a_{k,\\ell})$.\n",
    "\n",
    "Indexu $k$ se říká řádkový index, indexu $\\ell$ sloupcový index.\n",
    "Pokud platí $m=n$, pak mluvíme o **čtvercových maticích**, jinak o **maticích obdélníkových**.\n",
    "\n",
    "Často je potřeba mluvit o a hlavně pracovat s jednotlivými řádky a sloupci matic.\n",
    "K tomu zavádíme jednoduché značení kompatibilní s Pythonem.\n",
    "Pokud budeme mluvit o matici $\\mathbb{A} \\in T^{m,n}$ zmíněné výše, tak pod symbolem $\\mathbb{A}_{k:} \\in T^{1,n}$ máme na mysli její $k$tý řádek, tj.\n",
    "$$\n",
    "  \\mathbb{A}_{k:} = (\\mathbb{A}_{k,1}, \\mathbb{A}_{k,2}, \\ldots, \\mathbb{A_{k,n}}),\n",
    "$$\n",
    "a pod symbolem $\\mathbb{A}_{:\\ell} \\in T^{m,1}$ pak její $\\ell$tý sloupec, tj.\n",
    "$$\n",
    "  \\mathbb{A}_{:\\ell} = \\begin{pmatrix} \\mathbb{A}_{1\\ell} \\\\ \\mathbb{A}_{2\\ell} \\\\ \\vdots \\\\ \\mathbb{A}_{m,\\ell} \\end{pmatrix}\n",
    "$$"
   ]
  },
  {
   "cell_type": "markdown",
   "metadata": {},
   "source": [
    "## Matice v Sage\n",
    "\n",
    "K vytváření matic v Sage vystačíme s Pythonovským polem, tzv. listem, a funkcí `matrix`.\n",
    "\n",
    "List (pole) v pythonu se vytváří jednoduše pomocí hranatých závorek a může jako své prvky obsahovat všechno možné:"
   ]
  },
  {
   "cell_type": "code",
   "execution_count": 1,
   "metadata": {},
   "outputs": [
    {
     "data": {
      "text/plain": [
       "[1, 2, 'a']"
      ]
     },
     "execution_count": 1,
     "metadata": {},
     "output_type": "execute_result"
    }
   ],
   "source": [
    "a = [1, 2, 'a']\n",
    "a"
   ]
  },
  {
   "cell_type": "markdown",
   "metadata": {},
   "source": [
    "V proměnné `a` je uložen Pythonovský list, na který se můžete v tomto případě dívat jako na pole, indexované od $0$ a mající tři prvky.\n",
    "K prvkům se přistupuje opět pomocí hranatých závorek:"
   ]
  },
  {
   "cell_type": "code",
   "execution_count": 2,
   "metadata": {},
   "outputs": [
    {
     "name": "stdout",
     "output_type": "stream",
     "text": [
      "1\n",
      "2\n",
      "a\n"
     ]
    }
   ],
   "source": [
    "print(a[0])\n",
    "print(a[1])\n",
    "print(a[2])"
   ]
  },
  {
   "cell_type": "markdown",
   "metadata": {},
   "source": [
    "### Konstrukce matice"
   ]
  },
  {
   "cell_type": "markdown",
   "metadata": {},
   "source": [
    "Matice v Sage nejjednodušeji zkonstruujeme pomocí funkce `matrix`, které předáme list listů představující požadovanou matici zadanou po řádcích (vnitřní listy tedy odpovídají řádkům naší matice)."
   ]
  },
  {
   "cell_type": "code",
   "execution_count": 3,
   "metadata": {},
   "outputs": [
    {
     "data": {
      "text/html": [
       "<html><script type=\"math/tex; mode=display\">\\newcommand{\\Bold}[1]{\\mathbf{#1}}\\left(\\begin{array}{rrr}\n",
       "1 & 2 & 3 \\\\\n",
       "4 & 5 & 6 \\\\\n",
       "7 & 8 & 9\n",
       "\\end{array}\\right)</script></html>"
      ],
      "text/plain": [
       "[1 2 3]\n",
       "[4 5 6]\n",
       "[7 8 9]"
      ]
     },
     "metadata": {},
     "output_type": "display_data"
    }
   ],
   "source": [
    "A = matrix([\n",
    "    [1, 2, 3],\n",
    "    [4, 5, 6],\n",
    "    [7, 8, 9]\n",
    "])\n",
    "show(A)"
   ]
  },
  {
   "cell_type": "markdown",
   "metadata": {},
   "source": [
    "S obyčejným listem bychom si pro práci s maticemi nevystačili.\n",
    "Podívejte se, jaké metody jsou k dispozici pro `a` a jaké pro `A`.\n",
    "S maticí v proměnné `A` teď budeme moci provádět spoustu užitečených operací."
   ]
  },
  {
   "cell_type": "markdown",
   "metadata": {},
   "source": [
    "V úvodní části této sekce jsme nespecifikovali odkud máme prvky matice brát.\n",
    "Sage opět se v tomto případě snaží uhodnout, nad jakým tělesem se pohybujeme. "
   ]
  },
  {
   "cell_type": "code",
   "execution_count": 4,
   "metadata": {},
   "outputs": [
    {
     "data": {
      "text/plain": [
       "Full MatrixSpace of 3 by 3 dense matrices over Integer Ring"
      ]
     },
     "execution_count": 4,
     "metadata": {},
     "output_type": "execute_result"
    }
   ],
   "source": [
    "A.parent()"
   ]
  },
  {
   "cell_type": "markdown",
   "metadata": {},
   "source": [
    "Tj. bez dalšího vysvětlování náš vstup chápe jako $3 \\times 3$ matici s prvky z množiny celých čísel $\\mathbb{Z}$, tedy jako prvek $\\mathbb{Z}^{3,3}$.\n",
    "\n",
    "Ve většině případů není potřeba toto chování měnit, například v následujících případech je výsledek takový, jaký jsme zřejmě chtěli:"
   ]
  },
  {
   "cell_type": "code",
   "execution_count": 5,
   "metadata": {},
   "outputs": [
    {
     "data": {
      "text/html": [
       "<html><script type=\"math/tex; mode=display\">\\newcommand{\\Bold}[1]{\\mathbf{#1}}\\left(\\begin{array}{rr}\n",
       "\\frac{1}{2} & \\frac{2}{3} \\\\\n",
       "\\frac{4}{5} & \\frac{5}{6}\n",
       "\\end{array}\\right)</script></html>"
      ],
      "text/plain": [
       "[1/2 2/3]\n",
       "[4/5 5/6]"
      ]
     },
     "metadata": {},
     "output_type": "display_data"
    },
    {
     "data": {
      "text/plain": [
       "Full MatrixSpace of 2 by 2 dense matrices over Rational Field"
      ]
     },
     "execution_count": 5,
     "metadata": {},
     "output_type": "execute_result"
    }
   ],
   "source": [
    "A = matrix([\n",
    "    [1/2, 2/3],\n",
    "    [4/5, 5/6]\n",
    "])\n",
    "show(A)\n",
    "A.parent()"
   ]
  },
  {
   "cell_type": "code",
   "execution_count": 6,
   "metadata": {},
   "outputs": [
    {
     "data": {
      "text/html": [
       "<html><script type=\"math/tex; mode=display\">\\newcommand{\\Bold}[1]{\\mathbf{#1}}\\left(\\begin{array}{rr}\n",
       "0.500000000000000 & 2.20000000000000 \\\\\n",
       "0.300000000000000 & 1.10000000000000\n",
       "\\end{array}\\right)</script></html>"
      ],
      "text/plain": [
       "[0.500000000000000  2.20000000000000]\n",
       "[0.300000000000000  1.10000000000000]"
      ]
     },
     "metadata": {},
     "output_type": "display_data"
    },
    {
     "data": {
      "text/plain": [
       "Full MatrixSpace of 2 by 2 dense matrices over Real Field with 53 bits of precision"
      ]
     },
     "execution_count": 6,
     "metadata": {},
     "output_type": "execute_result"
    }
   ],
   "source": [
    "A = matrix([\n",
    "    [0.5, 2.2],\n",
    "    [0.3, 1.1]\n",
    "])\n",
    "show(A)\n",
    "A.parent()"
   ]
  },
  {
   "cell_type": "markdown",
   "metadata": {},
   "source": [
    "Občas chceme ale vynutit typ prvků matice, například když pracujeme nad konečným tělesem.\n",
    "V tom případě je nejsnazší předat toto těleso jako první argument funkce `matrix`.\n",
    "Například:"
   ]
  },
  {
   "cell_type": "code",
   "execution_count": 7,
   "metadata": {},
   "outputs": [
    {
     "data": {
      "text/html": [
       "<html><script type=\"math/tex; mode=display\">\\newcommand{\\Bold}[1]{\\mathbf{#1}}\\left(\\begin{array}{rr}\n",
       "2 & 4 \\\\\n",
       "1 & 3\n",
       "\\end{array}\\right)</script></html>"
      ],
      "text/plain": [
       "[2 4]\n",
       "[1 3]"
      ]
     },
     "metadata": {},
     "output_type": "display_data"
    },
    {
     "data": {
      "text/plain": [
       "Full MatrixSpace of 2 by 2 dense matrices over Finite Field of size 5"
      ]
     },
     "execution_count": 7,
     "metadata": {},
     "output_type": "execute_result"
    }
   ],
   "source": [
    "A = matrix(GF(5), [\n",
    "    [2, 4],\n",
    "    [1, 3]\n",
    "])\n",
    "show(A)\n",
    "A.parent()"
   ]
  },
  {
   "cell_type": "markdown",
   "metadata": {},
   "source": [
    "Na první pohled se nezdá, že se od prvního příkladu moc nezměnilo.\n",
    "Ale jak si ukážeme níže, výsledky různých maticových operací budu podstatně jiné, než kdybychom ji chápali jako prvek $\\mathbb{Z}^{2,2}$.\n",
    "Nyní jde o matici z $GF(5)^{2,2}$."
   ]
  },
  {
   "cell_type": "markdown",
   "metadata": {},
   "source": [
    "### Práce s prvky matice\n",
    "\n",
    "Ukážeme si různé jednoduché způsoby jak přistupovat k prvkům matice `A` definované hned nad tímto dostavcem.\n",
    "Jednotlivé prvky dostaneme tak jak jsme si zavedli indexování (pozor, v Sage i Pythonu od $0$)!"
   ]
  },
  {
   "cell_type": "code",
   "execution_count": 8,
   "metadata": {},
   "outputs": [
    {
     "name": "stdout",
     "output_type": "stream",
     "text": [
      "Prvky v prvním řádku:\n",
      "2\n",
      "4\n",
      "Prvky v druhém řádku:\n",
      "1\n",
      "3\n"
     ]
    }
   ],
   "source": [
    "print('Prvky v prvním řádku:')\n",
    "print(A[0, 0])\n",
    "print(A[0, 1])\n",
    "print('Prvky v druhém řádku:')\n",
    "print(A[1, 0])\n",
    "print(A[1, 1])"
   ]
  },
  {
   "cell_type": "markdown",
   "metadata": {},
   "source": [
    "Nebo bychom mohli získat jednotlivé sloupce a řádky (to se nám bude hodit později)."
   ]
  },
  {
   "cell_type": "code",
   "execution_count": 9,
   "metadata": {},
   "outputs": [
    {
     "name": "stdout",
     "output_type": "stream",
     "text": [
      "První řádek:\n"
     ]
    },
    {
     "data": {
      "text/html": [
       "<html><script type=\"math/tex; mode=display\">\\newcommand{\\Bold}[1]{\\mathbf{#1}}\\left(\\begin{array}{rr}\n",
       "2 & 4\n",
       "\\end{array}\\right)</script></html>"
      ],
      "text/plain": [
       "[2 4]"
      ]
     },
     "metadata": {},
     "output_type": "display_data"
    },
    {
     "name": "stdout",
     "output_type": "stream",
     "text": [
      "Druhý sloupec:\n"
     ]
    },
    {
     "data": {
      "text/html": [
       "<html><script type=\"math/tex; mode=display\">\\newcommand{\\Bold}[1]{\\mathbf{#1}}\\left(\\begin{array}{r}\n",
       "4 \\\\\n",
       "3\n",
       "\\end{array}\\right)</script></html>"
      ],
      "text/plain": [
       "[4]\n",
       "[3]"
      ]
     },
     "metadata": {},
     "output_type": "display_data"
    }
   ],
   "source": [
    "print('První řádek:')\n",
    "show(A[0,:])\n",
    "print('Druhý sloupec:')\n",
    "show(A[:,1])"
   ]
  },
  {
   "cell_type": "markdown",
   "metadata": {},
   "source": [
    "### Maticové operace: násobení číslem\n",
    "\n",
    "Matice z $\\mathbb{A} \\in T^{m,n}$ můžeme přirozeně násobit číslem z $\\alpha$ tělesa $T$.\n",
    "Pod maticí $\\alpha\\mathbb{A}$ rozumíme matici, jejíž prvky jsou $\\alpha$-násobky prvků matice $\\mathbb{A}$,\n",
    "přesněji\n",
    "$$ (\\alpha\\mathbb{A})_{k,\\ell} := \\alpha \\cdot \\mathbb{A}_{k,\\ell}, $$\n",
    "pro každé $k\\in\\hat m$ a $\\ell\\in\\hat n$.\n",
    "\n",
    "V Sage této operaci odpovídá `*` pokud nalevo máme číslo a napravo matici."
   ]
  },
  {
   "cell_type": "code",
   "execution_count": 10,
   "metadata": {},
   "outputs": [
    {
     "data": {
      "text/html": [
       "<html><script type=\"math/tex; mode=display\">\\newcommand{\\Bold}[1]{\\mathbf{#1}}\\left(\\begin{array}{rr}\n",
       "7 & \\frac{7}{2} \\\\\n",
       "21 & \\frac{21}{5}\n",
       "\\end{array}\\right)</script></html>"
      ],
      "text/plain": [
       "[   7  7/2]\n",
       "[  21 21/5]"
      ]
     },
     "metadata": {},
     "output_type": "display_data"
    }
   ],
   "source": [
    "A = matrix(QQ, [\n",
    "    [1, 1/2],\n",
    "    [3, 3/5]\n",
    "])\n",
    "show(7 * A)"
   ]
  },
  {
   "cell_type": "markdown",
   "metadata": {},
   "source": [
    "Důležité je uvědomit si, že operace násobení mezi prvky matice se provádí v tělese $T$!"
   ]
  },
  {
   "cell_type": "code",
   "execution_count": 11,
   "metadata": {},
   "outputs": [
    {
     "data": {
      "text/html": [
       "<html><script type=\"math/tex; mode=display\">\\newcommand{\\Bold}[1]{\\mathbf{#1}}\\left(\\begin{array}{rr}\n",
       "2 & 6 \\\\\n",
       "4 & 3\n",
       "\\end{array}\\right)</script></html>"
      ],
      "text/plain": [
       "[2 6]\n",
       "[4 3]"
      ]
     },
     "metadata": {},
     "output_type": "display_data"
    }
   ],
   "source": [
    "A = matrix(GF(7), [\n",
    "    [1, 3],\n",
    "    [2, 5]\n",
    "])\n",
    "show(2 * A)"
   ]
  },
  {
   "cell_type": "markdown",
   "metadata": {},
   "source": [
    "### Maticové operace: sčítání matic\n",
    "\n",
    "Matice stejných rozměrů $\\mathbb{A},\\mathbb{B} \\in T^{m,n}$ s prvky ze stejného tělesa $T$ můžeme přirozeně sčítat prvek po prvku,\n",
    "$$ (\\mathbb{A} + \\mathbb{B})_{k,\\ell} := \\mathbb{A}_{k,\\ell} + \\mathbb{B}_{k,\\ell}, $$\n",
    "pro každé $k\\in\\hat m$ a $\\ell\\in\\hat n$.\n",
    "\n",
    "V Sage této operaci odpovídá `+` mezi maticemi stejných rozměrů.\n",
    "Podobně bude přirozeně fungovat operátor `-`."
   ]
  },
  {
   "cell_type": "code",
   "execution_count": 12,
   "metadata": {},
   "outputs": [
    {
     "data": {
      "text/html": [
       "<html><script type=\"math/tex; mode=display\">\\newcommand{\\Bold}[1]{\\mathbf{#1}}\\left(\\begin{array}{rrr}\n",
       "0 & -\\frac{1}{2} & -\\frac{2}{3} \\\\\n",
       "\\frac{7}{2} & 2 & \\frac{3}{2}\n",
       "\\end{array}\\right)</script></html>"
      ],
      "text/plain": [
       "[   0 -1/2 -2/3]\n",
       "[ 7/2    2  3/2]"
      ]
     },
     "metadata": {},
     "output_type": "display_data"
    }
   ],
   "source": [
    "A = matrix(QQ, [\n",
    "    [1, 1/2, 1/3],\n",
    "    [3, 2,   1]\n",
    "])\n",
    "B = matrix(QQ, [\n",
    "    [-1, -1, -1],\n",
    "    [1/2, 0, 1/2]\n",
    "])\n",
    "show(A + B)"
   ]
  },
  {
   "cell_type": "markdown",
   "metadata": {},
   "source": [
    "Důležité je uvědomit si, že operace sčítání mezi prvky matice se provádí v tělese $T$!"
   ]
  },
  {
   "cell_type": "code",
   "execution_count": 13,
   "metadata": {},
   "outputs": [
    {
     "data": {
      "text/html": [
       "<html><script type=\"math/tex; mode=display\">\\newcommand{\\Bold}[1]{\\mathbf{#1}}\\left(\\begin{array}{rrr}\n",
       "0 & 3 & 4 \\\\\n",
       "0 & 2 & 5\n",
       "\\end{array}\\right)</script></html>"
      ],
      "text/plain": [
       "[0 3 4]\n",
       "[0 2 5]"
      ]
     },
     "metadata": {},
     "output_type": "display_data"
    }
   ],
   "source": [
    "A = matrix(GF(7), [\n",
    "    [1, 2, 3],\n",
    "    [5, 5, 2]\n",
    "])\n",
    "B = matrix(GF(7), [\n",
    "    [6, 1, 1],\n",
    "    [2, 4, 3]\n",
    "])\n",
    "show(A + B)"
   ]
  },
  {
   "cell_type": "markdown",
   "metadata": {},
   "source": [
    "### Maticové operace: násobení matic\n",
    "\n",
    "Tato operace mezi maticemi může při prvním setkání vypadat poněkud komplikovaně.\n",
    "\n",
    "Mějme matice $\\mathbb{A} \\in T^{m,n}$ a $\\mathbb{B} \\in T^{n,o}$. Tedy $\\mathbb{A}$ má stejně sloupců jako $\\mathbb{B}$ řádků.\n",
    "Součinem těchto dvou matic je matice $\\mathbb{A}\\mathbb{B} \\in T^{m,o}$ jejíž prvky jsou dány následovně\n",
    "$$ (\\mathbb{A} \\mathbb{B})_{k,\\ell} := \\sum_{j=1}^n \\mathbb{A}_{k,j} \\mathbb{B}_{j,\\ell}, $$\n",
    "pro každé $k\\in\\hat m$ a $\\ell\\in\\hat o$.\n",
    "\n",
    "Pokud se nad uvedenou sumou zamyslíme, tak vidíme, že prvek součinu $\\mathbb{A}\\mathbb{B}$ na $k$tém řádku a $\\ell$tém sloupci vznikl tak, že jsme vzali $k$tý řádek matice $\\mathbb{A}$ a $\\ell$tý řádek matice $\\mathbb{B}$ (tyto mají stejný počet prvků), vynásobili jsme je člen po členu (vnitřek sumy) a součiny sečetli (suma).\n",
    "\n",
    "V tento okamžik se tato operace může zdát velmi \"libovolná\".\n",
    "Později během semestru si ukážeme, jak se k ní lze velmi přirozeně dostat při studiu lineárních zobrazení a jejich skládání.\n",
    "\n",
    "V Sage této operaci odpovídá operátor `*` mezi maticemi správných rozměrů.\n",
    "Vezměmě konkrétní příklad."
   ]
  },
  {
   "cell_type": "code",
   "execution_count": 14,
   "metadata": {},
   "outputs": [
    {
     "data": {
      "text/html": [
       "<html><script type=\"math/tex; mode=display\">\\newcommand{\\Bold}[1]{\\mathbf{#1}}\\left(\\begin{array}{rrr}\n",
       "1 & \\frac{1}{2} & \\frac{1}{3} \\\\\n",
       "3 & 2 & 1\n",
       "\\end{array}\\right)</script></html>"
      ],
      "text/plain": [
       "[  1 1/2 1/3]\n",
       "[  3   2   1]"
      ]
     },
     "metadata": {},
     "output_type": "display_data"
    },
    {
     "data": {
      "text/html": [
       "<html><script type=\"math/tex; mode=display\">\\newcommand{\\Bold}[1]{\\mathbf{#1}}\\left(\\begin{array}{rrr}\n",
       "-1 & -1 & -1 \\\\\n",
       "\\frac{1}{2} & 0 & \\frac{1}{2} \\\\\n",
       "3 & 4 & 5\n",
       "\\end{array}\\right)</script></html>"
      ],
      "text/plain": [
       "[ -1  -1  -1]\n",
       "[1/2   0 1/2]\n",
       "[  3   4   5]"
      ]
     },
     "metadata": {},
     "output_type": "display_data"
    },
    {
     "name": "stdout",
     "output_type": "stream",
     "text": [
      "Součin:\n"
     ]
    },
    {
     "data": {
      "text/html": [
       "<html><script type=\"math/tex; mode=display\">\\newcommand{\\Bold}[1]{\\mathbf{#1}}\\left(\\begin{array}{rrr}\n",
       "\\frac{1}{4} & \\frac{1}{3} & \\frac{11}{12} \\\\\n",
       "1 & 1 & 3\n",
       "\\end{array}\\right)</script></html>"
      ],
      "text/plain": [
       "[  1/4   1/3 11/12]\n",
       "[    1     1     3]"
      ]
     },
     "metadata": {},
     "output_type": "display_data"
    }
   ],
   "source": [
    "A = matrix(QQ, [\n",
    "    [1, 1/2, 1/3],\n",
    "    [3, 2,   1]\n",
    "])\n",
    "B = matrix(QQ, [\n",
    "    [-1, -1, -1],\n",
    "    [1/2, 0, 1/2],\n",
    "    [3,   4, 5]\n",
    "])\n",
    "show(A)\n",
    "show(B)\n",
    "print('Součin:')\n",
    "show(A * B)"
   ]
  },
  {
   "cell_type": "markdown",
   "metadata": {},
   "source": [
    "Pojďme si tento výsledek podrobněji rozebrat a spočtěme prvek v prvním řádku a druhém sloupci.\n",
    "Ten by měl vzniknout tak, že vezme první řádek matice `A` a druhý sloupec matice `B`,"
   ]
  },
  {
   "cell_type": "code",
   "execution_count": 15,
   "metadata": {},
   "outputs": [
    {
     "data": {
      "text/html": [
       "<html><script type=\"math/tex; mode=display\">\\newcommand{\\Bold}[1]{\\mathbf{#1}}\\left(\\begin{array}{rrr}\n",
       "1 & \\frac{1}{2} & \\frac{1}{3}\n",
       "\\end{array}\\right)</script></html>"
      ],
      "text/plain": [
       "[  1 1/2 1/3]"
      ]
     },
     "metadata": {},
     "output_type": "display_data"
    },
    {
     "data": {
      "text/html": [
       "<html><script type=\"math/tex; mode=display\">\\newcommand{\\Bold}[1]{\\mathbf{#1}}\\left(\\begin{array}{r}\n",
       "-1 \\\\\n",
       "0 \\\\\n",
       "4\n",
       "\\end{array}\\right)</script></html>"
      ],
      "text/plain": [
       "[-1]\n",
       "[ 0]\n",
       "[ 4]"
      ]
     },
     "metadata": {},
     "output_type": "display_data"
    }
   ],
   "source": [
    "show(A[0, :])\n",
    "show(B[:, 1])"
   ]
  },
  {
   "cell_type": "markdown",
   "metadata": {},
   "source": [
    "vynásobíme je prvek po prvku a výsledky sečteme, dostaneme tak očekávaný výsledek"
   ]
  },
  {
   "cell_type": "code",
   "execution_count": 16,
   "metadata": {},
   "outputs": [
    {
     "data": {
      "text/plain": [
       "1/3"
      ]
     },
     "execution_count": 16,
     "metadata": {},
     "output_type": "execute_result"
    }
   ],
   "source": [
    "sum(A[0, j] * B[j, 1] for j in range(3)) # range(3) = {0, 1, 2}, více méně"
   ]
  },
  {
   "cell_type": "markdown",
   "metadata": {},
   "source": [
    "**Poznámka**: Speciálně platí, že čtvercové matice stejného rozměru můžeme násobit dle libosti. Pro opakované násobení se přirozeně používá zkrácené značení $\\mathbb{A}^k = \\mathbb{A} \\cdots \\mathbb{A}$ ($k$ matic $\\mathbb{A}$ vynásobených samo se sebou)."
   ]
  },
  {
   "cell_type": "code",
   "execution_count": 17,
   "metadata": {},
   "outputs": [
    {
     "data": {
      "text/html": [
       "<html><script type=\"math/tex; mode=display\">\\newcommand{\\Bold}[1]{\\mathbf{#1}}\\left(\\begin{array}{rr}\n",
       "1069 & 1558 \\\\\n",
       "2337 & 3406\n",
       "\\end{array}\\right)</script></html>"
      ],
      "text/plain": [
       "[1069 1558]\n",
       "[2337 3406]"
      ]
     },
     "metadata": {},
     "output_type": "display_data"
    }
   ],
   "source": [
    "A = matrix([\n",
    "    [1, 2],\n",
    "    [3, 4]\n",
    "])\n",
    "show(A^5)"
   ]
  },
  {
   "cell_type": "markdown",
   "metadata": {},
   "source": [
    "**Poznámka**: Další operací, kterou s maticemi lze provádět je **inverze**.\n",
    "Té se budeme věnovat později během semestru.\n",
    "\n",
    "**Poznámka**: Operace násobení i sčítání matic jsou asociativní.\n",
    "Distributivita maticového násobení vůči sčítání také platí.\n",
    "Násobení matic ovšem **není komutativní**!!!\n",
    "\n",
    "Následující výpočet není důkaz těchto tvrzení, pouze demonstrace o čem mluvíme.\n"
   ]
  },
  {
   "cell_type": "code",
   "execution_count": 18,
   "metadata": {},
   "outputs": [
    {
     "name": "stdout",
     "output_type": "stream",
     "text": [
      "A + (B + C) == (A + B) + C:\n",
      "True\n",
      "A * (B * C) == (A * B) * C:\n",
      "True\n",
      "A * (B + C) == (A * B) + (A * C):\n",
      "True\n",
      "A * B != B * A:\n",
      "False\n"
     ]
    }
   ],
   "source": [
    "A = matrix(QQ, [\n",
    "    [1, 3],\n",
    "    [1, 2]\n",
    "])\n",
    "B = matrix(QQ, [\n",
    "    [1, -3],\n",
    "    [3, 0]\n",
    "])\n",
    "C = matrix(QQ, [\n",
    "    [0, -1],\n",
    "    [1, 0]\n",
    "])\n",
    "print('A + (B + C) == (A + B) + C:')\n",
    "print(A + (B + C) == (A + B) + C)\n",
    "print('A * (B * C) == (A * B) * C:')\n",
    "print(A * (B * C) == (A * B) * C)\n",
    "print('A * (B + C) == (A * B) + (A * C):')\n",
    "print(A * (B + C) == (A * B) + (A * C))\n",
    "print('A * B != B * A:')\n",
    "print(A * B == B * A)"
   ]
  },
  {
   "cell_type": "markdown",
   "metadata": {},
   "source": [
    "Opravdu, součiny těchto dvou matic jsou:"
   ]
  },
  {
   "cell_type": "code",
   "execution_count": 19,
   "metadata": {},
   "outputs": [
    {
     "data": {
      "text/html": [
       "<html><script type=\"math/tex; mode=display\">\\newcommand{\\Bold}[1]{\\mathbf{#1}}\\left(\\begin{array}{rr}\n",
       "10 & -3 \\\\\n",
       "7 & -3\n",
       "\\end{array}\\right)</script></html>"
      ],
      "text/plain": [
       "[10 -3]\n",
       "[ 7 -3]"
      ]
     },
     "metadata": {},
     "output_type": "display_data"
    },
    {
     "data": {
      "text/html": [
       "<html><script type=\"math/tex; mode=display\">\\newcommand{\\Bold}[1]{\\mathbf{#1}}\\left(\\begin{array}{rr}\n",
       "-2 & -3 \\\\\n",
       "3 & 9\n",
       "\\end{array}\\right)</script></html>"
      ],
      "text/plain": [
       "[-2 -3]\n",
       "[ 3  9]"
      ]
     },
     "metadata": {},
     "output_type": "display_data"
    }
   ],
   "source": [
    "show(A * B)\n",
    "show(B * A)"
   ]
  },
  {
   "cell_type": "markdown",
   "metadata": {},
   "source": [
    "## Dodatek: Další užitečné funkce\n",
    "\n",
    "V tomto dodatku probereme pár užitečných způsobů jak konstruovat různé matice."
   ]
  },
  {
   "cell_type": "markdown",
   "metadata": {},
   "source": [
    "Matice s dvěma řádky a čtyřmi sloupci s náhodně zvolenými prvky z tělesa $GF(3)$."
   ]
  },
  {
   "cell_type": "code",
   "execution_count": 20,
   "metadata": {},
   "outputs": [
    {
     "data": {
      "text/html": [
       "<html><script type=\"math/tex; mode=display\">\\newcommand{\\Bold}[1]{\\mathbf{#1}}\\left(\\begin{array}{rrrr}\n",
       "2 & 1 & 1 & 0 \\\\\n",
       "2 & 0 & 2 & 2\n",
       "\\end{array}\\right)</script></html>"
      ],
      "text/plain": [
       "[2 1 1 0]\n",
       "[2 0 2 2]"
      ]
     },
     "metadata": {},
     "output_type": "display_data"
    }
   ],
   "source": [
    "show(random_matrix(GF(3), 2, 4))"
   ]
  },
  {
   "cell_type": "markdown",
   "metadata": {},
   "source": [
    "Náhodná matice stejného rozměru, pouze s prvky zvolenými z tělesa racionálních čísel $\\mathbb{Q}$. "
   ]
  },
  {
   "cell_type": "code",
   "execution_count": 21,
   "metadata": {},
   "outputs": [
    {
     "data": {
      "text/html": [
       "<html><script type=\"math/tex; mode=display\">\\newcommand{\\Bold}[1]{\\mathbf{#1}}\\left(\\begin{array}{rrrr}\n",
       "2 & -1 & 0 & -\\frac{1}{2} \\\\\n",
       "0 & 1 & -1 & -\\frac{1}{2}\n",
       "\\end{array}\\right)</script></html>"
      ],
      "text/plain": [
       "[   2   -1    0 -1/2]\n",
       "[   0    1   -1 -1/2]"
      ]
     },
     "metadata": {},
     "output_type": "display_data"
    }
   ],
   "source": [
    "show(random_matrix(QQ, 2, 4))"
   ]
  },
  {
   "cell_type": "markdown",
   "metadata": {},
   "source": [
    "Nulová matice (matice se všemi prvky nulovými) s čtyřmi řádky a třemi sloupci."
   ]
  },
  {
   "cell_type": "code",
   "execution_count": 22,
   "metadata": {},
   "outputs": [
    {
     "data": {
      "text/html": [
       "<html><script type=\"math/tex; mode=display\">\\newcommand{\\Bold}[1]{\\mathbf{#1}}\\left(\\begin{array}{rrr}\n",
       "0 & 0 & 0 \\\\\n",
       "0 & 0 & 0 \\\\\n",
       "0 & 0 & 0 \\\\\n",
       "0 & 0 & 0\n",
       "\\end{array}\\right)</script></html>"
      ],
      "text/plain": [
       "[0 0 0]\n",
       "[0 0 0]\n",
       "[0 0 0]\n",
       "[0 0 0]"
      ]
     },
     "metadata": {},
     "output_type": "display_data"
    }
   ],
   "source": [
    "show(zero_matrix(4, 3))"
   ]
  },
  {
   "cell_type": "markdown",
   "metadata": {},
   "source": [
    "Matice rozměru $4 \\times 4$ se všemi prvky rovnými $2$."
   ]
  },
  {
   "cell_type": "code",
   "execution_count": 23,
   "metadata": {},
   "outputs": [
    {
     "data": {
      "text/html": [
       "<html><script type=\"math/tex; mode=display\">\\newcommand{\\Bold}[1]{\\mathbf{#1}}\\left(\\begin{array}{rrrr}\n",
       "2 & 0 & 0 & 0 \\\\\n",
       "0 & 2 & 0 & 0 \\\\\n",
       "0 & 0 & 2 & 0 \\\\\n",
       "0 & 0 & 0 & 2\n",
       "\\end{array}\\right)</script></html>"
      ],
      "text/plain": [
       "[2 0 0 0]\n",
       "[0 2 0 0]\n",
       "[0 0 2 0]\n",
       "[0 0 0 2]"
      ]
     },
     "metadata": {},
     "output_type": "display_data"
    }
   ],
   "source": [
    "show(matrix(4, 4, 2))\n",
    "matrix?"
   ]
  },
  {
   "cell_type": "markdown",
   "metadata": {},
   "source": [
    "Jednotková matice (matice s jedničkami na diagonále a nulami všude jinde) rozměru $5 \\times 5$."
   ]
  },
  {
   "cell_type": "code",
   "execution_count": 24,
   "metadata": {},
   "outputs": [
    {
     "data": {
      "text/html": [
       "<html><script type=\"math/tex; mode=display\">\\newcommand{\\Bold}[1]{\\mathbf{#1}}\\left(\\begin{array}{rrrrr}\n",
       "1 & 0 & 0 & 0 & 0 \\\\\n",
       "0 & 1 & 0 & 0 & 0 \\\\\n",
       "0 & 0 & 1 & 0 & 0 \\\\\n",
       "0 & 0 & 0 & 1 & 0 \\\\\n",
       "0 & 0 & 0 & 0 & 1\n",
       "\\end{array}\\right)</script></html>"
      ],
      "text/plain": [
       "[1 0 0 0 0]\n",
       "[0 1 0 0 0]\n",
       "[0 0 1 0 0]\n",
       "[0 0 0 1 0]\n",
       "[0 0 0 0 1]"
      ]
     },
     "metadata": {},
     "output_type": "display_data"
    }
   ],
   "source": [
    "show(identity_matrix(5, 5))"
   ]
  },
  {
   "cell_type": "markdown",
   "metadata": {},
   "source": [
    "Uvedené funkce umožňují i další možnosti jak matice konstruovat.\n",
    "Zvídavý čtenář se může inspirovat v dokumentaci.\n",
    "Alespoň jeden zajímavý netriviální příklad si uveďme."
   ]
  },
  {
   "cell_type": "code",
   "execution_count": 25,
   "metadata": {},
   "outputs": [
    {
     "data": {
      "text/html": [
       "<html><script type=\"math/tex; mode=display\">\\newcommand{\\Bold}[1]{\\mathbf{#1}}\\left(\\begin{array}{rrrrr}\n",
       "1 & \\frac{1}{2} & \\frac{1}{3} & \\frac{1}{4} & \\frac{1}{5} \\\\\n",
       "\\frac{1}{2} & \\frac{1}{3} & \\frac{1}{4} & \\frac{1}{5} & \\frac{1}{6} \\\\\n",
       "\\frac{1}{3} & \\frac{1}{4} & \\frac{1}{5} & \\frac{1}{6} & \\frac{1}{7} \\\\\n",
       "\\frac{1}{4} & \\frac{1}{5} & \\frac{1}{6} & \\frac{1}{7} & \\frac{1}{8} \\\\\n",
       "\\frac{1}{5} & \\frac{1}{6} & \\frac{1}{7} & \\frac{1}{8} & \\frac{1}{9}\n",
       "\\end{array}\\right)</script></html>"
      ],
      "text/plain": [
       "[  1 1/2 1/3 1/4 1/5]\n",
       "[1/2 1/3 1/4 1/5 1/6]\n",
       "[1/3 1/4 1/5 1/6 1/7]\n",
       "[1/4 1/5 1/6 1/7 1/8]\n",
       "[1/5 1/6 1/7 1/8 1/9]"
      ]
     },
     "metadata": {},
     "output_type": "display_data"
    }
   ],
   "source": [
    "f = lambda i, j: 1/(1 + i + j) # funkce dvou proměnných, f(i, j) = 1/(1 + i + j)\n",
    "m = matrix(QQ, 5, 5, f)        # matice mající prvky zkonstruované pomocí uvedené funkce\n",
    "show(m)"
   ]
  }
 ],
 "metadata": {
  "kernelspec": {
   "display_name": "SageMath 8.7",
   "language": "",
   "name": "sagemath"
  },
  "language_info": {
   "codemirror_mode": {
    "name": "ipython",
    "version": 2
   },
   "file_extension": ".py",
   "mimetype": "text/x-python",
   "name": "python",
   "nbconvert_exporter": "python",
   "pygments_lexer": "ipython2",
   "version": "2.7.15"
  }
 },
 "nbformat": 4,
 "nbformat_minor": 2
}
